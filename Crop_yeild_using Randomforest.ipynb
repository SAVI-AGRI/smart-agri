{
 "cells": [
  {
   "cell_type": "code",
   "execution_count": 8,
   "id": "09a3ccd1-e42c-4779-98e7-1fd38ca2f1a6",
   "metadata": {},
   "outputs": [],
   "source": [
    "from timeit import default_timer as timer\n",
    "from sklearn import metrics\n",
    "from sklearn.model_selection import train_test_split\n",
    "import warnings\n",
    "from IPython.display import HTML\n",
    "warnings.filterwarnings('ignore')\n",
    "import time"
   ]
  },
  {
   "cell_type": "code",
   "execution_count": 2,
   "id": "65cb3983-34fb-4d97-a8cc-7baa94105021",
   "metadata": {},
   "outputs": [],
   "source": [
    "import pandas as pd\n",
    "df = pd.read_csv(\"dataset.csv\")"
   ]
  },
  {
   "cell_type": "code",
   "execution_count": 3,
   "id": "d49094dd-4ee3-4370-848b-01910c9bce7a",
   "metadata": {},
   "outputs": [],
   "source": [
    "x = df.drop(['State'],axis=1)\n",
    "y = df['State']"
   ]
  },
  {
   "cell_type": "code",
   "execution_count": 4,
   "id": "056db3c9-3880-48ae-82e7-7fa0a2d6cfad",
   "metadata": {},
   "outputs": [
    {
     "data": {
      "text/plain": [
       "((672, 10), (75, 10), (672,))"
      ]
     },
     "execution_count": 4,
     "metadata": {},
     "output_type": "execute_result"
    }
   ],
   "source": [
    "x_train, x_test, y_train, y_test = train_test_split(x, y, test_size=0.1, random_state=43)\n",
    "x_train.shape, x_test.shape, y_train.shape"
   ]
  },
  {
   "cell_type": "code",
   "execution_count": 5,
   "id": "3e90b82e-089e-434e-98e1-ea1c3465c84a",
   "metadata": {},
   "outputs": [
    {
     "name": "stderr",
     "output_type": "stream",
     "text": [
      "Intel(R) Extension for Scikit-learn* enabled (https://github.com/intel/scikit-learn-intelex)\n"
     ]
    }
   ],
   "source": [
    "from sklearnex import patch_sklearn\n",
    "patch_sklearn()"
   ]
  },
  {
   "cell_type": "code",
   "execution_count": 6,
   "id": "6cd980f2-b5cb-4554-b5e4-3720b6733d53",
   "metadata": {},
   "outputs": [
    {
     "data": {
      "text/html": [
       "<div>\n",
       "<style scoped>\n",
       "    .dataframe tbody tr th:only-of-type {\n",
       "        vertical-align: middle;\n",
       "    }\n",
       "\n",
       "    .dataframe tbody tr th {\n",
       "        vertical-align: top;\n",
       "    }\n",
       "\n",
       "    .dataframe thead th {\n",
       "        text-align: right;\n",
       "    }\n",
       "</style>\n",
       "<table border=\"1\" class=\"dataframe\">\n",
       "  <thead>\n",
       "    <tr style=\"text-align: right;\">\n",
       "      <th></th>\n",
       "      <th>State</th>\n",
       "      <th>Year</th>\n",
       "      <th>Nitrogen (%)</th>\n",
       "      <th>Nitrogen (Pounds/Acre)</th>\n",
       "      <th>Phosphorous (%)</th>\n",
       "      <th>Phosphorous (Pounds/Acre)</th>\n",
       "      <th>Potash (%)</th>\n",
       "      <th>Potash (Pounds/Acre)</th>\n",
       "      <th>Area Planted (acres)</th>\n",
       "      <th>Harvested Area (acres)</th>\n",
       "      <th>Lint Yield (Pounds/Harvested Acre)</th>\n",
       "    </tr>\n",
       "  </thead>\n",
       "  <tbody>\n",
       "    <tr>\n",
       "      <th>0</th>\n",
       "      <td>Alabama</td>\n",
       "      <td>1973</td>\n",
       "      <td>99</td>\n",
       "      <td>82</td>\n",
       "      <td>95</td>\n",
       "      <td>77</td>\n",
       "      <td>97</td>\n",
       "      <td>83</td>\n",
       "      <td>385</td>\n",
       "      <td>370</td>\n",
       "      <td>405</td>\n",
       "    </tr>\n",
       "    <tr>\n",
       "      <th>1</th>\n",
       "      <td>Alabama</td>\n",
       "      <td>1974</td>\n",
       "      <td>100</td>\n",
       "      <td>100</td>\n",
       "      <td>99</td>\n",
       "      <td>76</td>\n",
       "      <td>99</td>\n",
       "      <td>75</td>\n",
       "      <td>440</td>\n",
       "      <td>420</td>\n",
       "      <td>399</td>\n",
       "    </tr>\n",
       "    <tr>\n",
       "      <th>2</th>\n",
       "      <td>Alabama</td>\n",
       "      <td>1975</td>\n",
       "      <td>100</td>\n",
       "      <td>74</td>\n",
       "      <td>92</td>\n",
       "      <td>57</td>\n",
       "      <td>98</td>\n",
       "      <td>66</td>\n",
       "      <td>405</td>\n",
       "      <td>395</td>\n",
       "      <td>337</td>\n",
       "    </tr>\n",
       "    <tr>\n",
       "      <th>3</th>\n",
       "      <td>Alabama</td>\n",
       "      <td>1976</td>\n",
       "      <td>98</td>\n",
       "      <td>72</td>\n",
       "      <td>93</td>\n",
       "      <td>71</td>\n",
       "      <td>98</td>\n",
       "      <td>80</td>\n",
       "      <td>325</td>\n",
       "      <td>315</td>\n",
       "      <td>443</td>\n",
       "    </tr>\n",
       "    <tr>\n",
       "      <th>4</th>\n",
       "      <td>Alabama</td>\n",
       "      <td>1977</td>\n",
       "      <td>99</td>\n",
       "      <td>74</td>\n",
       "      <td>91</td>\n",
       "      <td>72</td>\n",
       "      <td>97</td>\n",
       "      <td>85</td>\n",
       "      <td>310</td>\n",
       "      <td>305</td>\n",
       "      <td>510</td>\n",
       "    </tr>\n",
       "  </tbody>\n",
       "</table>\n",
       "</div>"
      ],
      "text/plain": [
       "     State  Year  Nitrogen (%)  Nitrogen (Pounds/Acre)  Phosphorous (%)  \\\n",
       "0  Alabama  1973            99                      82               95   \n",
       "1  Alabama  1974           100                     100               99   \n",
       "2  Alabama  1975           100                      74               92   \n",
       "3  Alabama  1976            98                      72               93   \n",
       "4  Alabama  1977            99                      74               91   \n",
       "\n",
       "   Phosphorous (Pounds/Acre)  Potash (%)  Potash (Pounds/Acre)  \\\n",
       "0                         77          97                    83   \n",
       "1                         76          99                    75   \n",
       "2                         57          98                    66   \n",
       "3                         71          98                    80   \n",
       "4                         72          97                    85   \n",
       "\n",
       "   Area Planted (acres)  Harvested Area (acres)  \\\n",
       "0                   385                     370   \n",
       "1                   440                     420   \n",
       "2                   405                     395   \n",
       "3                   325                     315   \n",
       "4                   310                     305   \n",
       "\n",
       "   Lint Yield (Pounds/Harvested Acre)  \n",
       "0                                 405  \n",
       "1                                 399  \n",
       "2                                 337  \n",
       "3                                 443  \n",
       "4                                 510  "
      ]
     },
     "execution_count": 6,
     "metadata": {},
     "output_type": "execute_result"
    }
   ],
   "source": [
    "df.head()"
   ]
  },
  {
   "cell_type": "code",
   "execution_count": 9,
   "id": "1341a624-a9b3-4767-8460-9af1f4960f6c",
   "metadata": {},
   "outputs": [
    {
     "name": "stderr",
     "output_type": "stream",
     "text": [
      "Intel(R) Extension for Scikit-learn* enabled (https://github.com/intel/scikit-learn-intelex)\n"
     ]
    },
    {
     "name": "stdout",
     "output_type": "stream",
     "text": [
      "RF's Accuracy is:  0.64\n",
      "Total runtime of the program is 1.0243802070617676\n"
     ]
    }
   ],
   "source": [
    "from sklearnex import patch_sklearn\n",
    "patch_sklearn()\n",
    "begin = time.time()\n",
    "from sklearnex.ensemble import RandomForestClassifier\n",
    "\n",
    "RF = RandomForestClassifier(n_estimators=20, random_state=0)\n",
    "RF.fit(x_train,y_train)\n",
    "# Random forest classifier called! \n",
    "\n",
    "predicted_values = RF.predict(x_test)\n",
    "\n",
    "x = metrics.accuracy_score(y_test, predicted_values)\n",
    "print(\"RF's Accuracy is: \", x)\n",
    "time.sleep(1)\n",
    "# store end time\n",
    "end = time.time()\n",
    " \n",
    "# total time taken\n",
    "print(f\"Total runtime of the program is {end - begin}\")\n"
   ]
  },
  {
   "cell_type": "code",
   "execution_count": null,
   "id": "2b285a6c-8281-4b21-b92a-a317fe3131a5",
   "metadata": {},
   "outputs": [],
   "source": []
  }
 ],
 "metadata": {
  "kernelspec": {
   "display_name": "Python 3 (Intel® oneAPI 2023.0)",
   "language": "python",
   "name": "c009-intel_distribution_of_python_3_oneapi-beta05-python"
  },
  "language_info": {
   "codemirror_mode": {
    "name": "ipython",
    "version": 3
   },
   "file_extension": ".py",
   "mimetype": "text/x-python",
   "name": "python",
   "nbconvert_exporter": "python",
   "pygments_lexer": "ipython3",
   "version": "3.9.15"
  }
 },
 "nbformat": 4,
 "nbformat_minor": 5
}
