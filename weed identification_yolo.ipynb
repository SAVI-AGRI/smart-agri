{
 "cells": [
  {
   "cell_type": "code",
   "execution_count": 1,
   "id": "2a171813-d94f-445a-ab85-8d53506200cc",
   "metadata": {},
   "outputs": [
    {
     "name": "stderr",
     "output_type": "stream",
     "text": [
      "Intel(R) Extension for Scikit-learn* enabled (https://github.com/intel/scikit-learn-intelex)\n"
     ]
    },
    {
     "name": "stdout",
     "output_type": "stream",
     "text": [
      "Number of images 691 \n",
      "Number of annotation files 691\n",
      "Training: 552 ;Validation:  69 ;Test: 70\n",
      "error\n"
     ]
    }
   ],
   "source": [
    "import os\n",
    "from sklearn.model_selection import train_test_split\n",
    "import shutil\n",
    "\n",
    "# get all the images and annotation files in two lists\n",
    "images=[]\n",
    "annotations=[]\n",
    "for i in os.listdir(\"Weed_Detection5a431d7/data/\"):\n",
    "    if \".txt\" in i:\n",
    "        annotations.append(os.path.join(\"Weed_Detection5a431d7/data/\",i))\n",
    "    elif \".DS_Store\" in i:\n",
    "        pass\n",
    "    else:\n",
    "        images.append(os.path.join(\"Weed_Detection5a431d7/data/\",i))\n",
    "        \n",
    "# sort the files so that the order of images and annotations are same        \n",
    "images.sort()\n",
    "annotations.sort()\n",
    "\n",
    "print(\"Number of images\",len(images),\"\\nNumber of annotation files\",len(annotations))\n",
    "\n",
    "\n",
    "\n",
    "# Split the dataset into train-valid-test splits \n",
    "train_images, val_images, train_annotations, val_annotations = train_test_split(images, annotations, \n",
    "                                                                                test_size = 0.2, random_state = 1)\n",
    "val_images, test_images, val_annotations, test_annotations = train_test_split(val_images, val_annotations, \n",
    "                                                                              test_size = 0.5, random_state = 1)\n",
    "\n",
    "print(\"Training:\",len(train_images),\";Validation: \",len(val_images),\";Test:\",len(test_images))\n",
    "\n",
    "# create additional folders\n",
    "\n",
    "\n",
    "if not os.path.isdir(\"Weed_Detection5a431d7/assorted_data\"):\n",
    "    os.mkdir(\"Weed_Detection5a431d7/assorted_data\")\n",
    "    \n",
    "if not os.path.isdir(\"Weed_Detection5a431d7/assorted_data/images\"):\n",
    "    os.mkdir(\"Weed_Detection5a431d7/assorted_data/images\")\n",
    "\n",
    "    \n",
    "if not os.path.isdir(\"Weed_Detection5a431d7/assorted_data/labels\"):\n",
    "    os.mkdir(\"Weed_Detection5a431d7/assorted_data/labels\")\n",
    "\n",
    "if not os.path.isdir(\"Weed_Detection5a431d7/assorted_data/images/train\"):\n",
    "    os.mkdir(\"Weed_Detection5a431d7/assorted_data/images/train\")\n",
    "\n",
    "if not os.path.isdir(\"Weed_Detection5a431d7/assorted_data/images/val\"):\n",
    "    os.mkdir(\"Weed_Detection5a431d7/assorted_data/images/val\")\n",
    "\n",
    "if not os.path.isdir(\"Weed_Detection5a431d7/assorted_data/images/test\"):\n",
    "    os.mkdir(\"Weed_Detection5a431d7/assorted_data/images/test\")\n",
    "    \n",
    "    \n",
    "if not os.path.isdir(\"Weed_Detection5a431d7/assorted_data/labels/train\"):\n",
    "    os.mkdir(\"Weed_Detection5a431d7/assorted_data/labels/train\")\n",
    "\n",
    "if not os.path.isdir(\"Weed_Detection5a431d7/assorted_data/labels/val\"):\n",
    "    os.mkdir(\"Weed_Detection5a431d7/assorted_data/labels/val\")\n",
    "\n",
    "if not os.path.isdir(\"Weed_Detection5a431d7/assorted_data/labels/test\"):\n",
    "    os.mkdir(\"Weed_Detection5a431d7/assorted_data/labels/test\")        \n",
    "\n",
    "    \n",
    "#Utility function to move images \n",
    "def move_files_to_folder(list_of_files, destination_folder):\n",
    "    for f in list_of_files:\n",
    "#         print(f,destination_folder)\n",
    "        try:\n",
    "            shutil.copy(f, destination_folder)\n",
    "        except:\n",
    "            print('error')\n",
    "            pass\n",
    "            # print(f,\"Already there\")\n",
    "            # assert False\n",
    "\n",
    "# Move the splits into their folders\n",
    "move_files_to_folder(train_images, 'Weed_Detection5a431d7/assorted_data/images/train/')\n",
    "move_files_to_folder(val_images, 'Weed_Detection5a431d7/assorted_data/images/val/')\n",
    "move_files_to_folder(test_images, 'Weed_Detection5a431d7/assorted_data/images/test/')\n",
    "move_files_to_folder(train_annotations, 'Weed_Detection5a431d7/assorted_data/labels/train/')\n",
    "move_files_to_folder(val_annotations, 'Weed_Detection5a431d7/assorted_data/labels/val/')\n",
    "move_files_to_folder(test_annotations, 'Weed_Detection5a431d7/assorted_data/labels/test/')    "
   ]
  },
  {
   "cell_type": "code",
   "execution_count": 2,
   "id": "4e5bb4b5-f61b-4d91-b071-f09a8d6415da",
   "metadata": {},
   "outputs": [
    {
     "name": "stdout",
     "output_type": "stream",
     "text": [
      "Number of train images =  552\n",
      "Number of train annotations =  552\n",
      "Number of val images =  69\n",
      "Number of val annotations =  69\n",
      "Number of test images =  69\n",
      "Number of test annotations =  70\n"
     ]
    }
   ],
   "source": [
    "import os\n",
    "\n",
    "print(\"Number of train images = \",len(os.listdir(\"Weed_Detection5a431d7/assorted_data/images/train/\")))\n",
    "print(\"Number of train annotations = \",len(os.listdir(\"Weed_Detection5a431d7/assorted_data/labels/train/\")))\n",
    "\n",
    "print(\"Number of val images = \",len(os.listdir(\"Weed_Detection5a431d7/assorted_data/images/val/\")))\n",
    "print(\"Number of val annotations = \",len(os.listdir(\"Weed_Detection5a431d7/assorted_data/labels/val/\")))\n",
    "\n",
    "print(\"Number of test images = \",len(os.listdir(\"Weed_Detection5a431d7/assorted_data/images/test/\")))\n",
    "print(\"Number of test annotations = \",len(os.listdir(\"Weed_Detection5a431d7/assorted_data/labels/test/\")))"
   ]
  },
  {
   "cell_type": "code",
   "execution_count": 3,
   "id": "ed91a2b7-1ca2-407b-9046-8aab7c37f6f4",
   "metadata": {},
   "outputs": [
    {
     "name": "stdout",
     "output_type": "stream",
     "text": [
      "/home/u185800/Weed_Detection5a431d7/assorted_data\n",
      "train: /home/u185800/Weed_Detection5a431d7/assorted_data/images/train\n",
      "val: /home/u185800/Weed_Detection5a431d7/assorted_data/images/val\n",
      "test: /home/u185800/Weed_Detection5a431d7/assorted_data/images/test\n",
      "nc: 2\n",
      "names: ['crop',\n",
      "        'weed',       \n",
      "]\n"
     ]
    }
   ],
   "source": [
    "import os\n",
    "from pathlib import Path\n",
    "path = Path(os.getcwd())\n",
    "final_data_path=os.path.join(path,\"Weed_Detection5a431d7\",\"assorted_data\")\n",
    "print(final_data_path)\n",
    "\n",
    "yaml_data=\"train: \"+final_data_path+\"/images/train\\n\"\n",
    "yaml_data+=\"val: \"+final_data_path+\"/images/val\\n\"\n",
    "yaml_data+=\"test: \"+final_data_path+\"/images/test\\n\"\n",
    "\n",
    "rest_of_yaml_data='''nc: 2\n",
    "names: ['crop',\n",
    "        'weed',       \n",
    "]'''\n",
    "\n",
    "yaml_data=yaml_data+rest_of_yaml_data\n",
    "print(yaml_data)\n",
    "\n",
    "yaml_file = open(\"dataDiff.yaml\", \"w\")\n",
    "n = yaml_file.write(yaml_data)\n",
    "yaml_file.close()"
   ]
  },
  {
   "cell_type": "code",
   "execution_count": 1,
   "id": "a835b58f-619e-42ff-8ffc-fb3b84d5c828",
   "metadata": {},
   "outputs": [
    {
     "name": "stderr",
     "output_type": "stream",
     "text": [
      "YOLOv5 🚀 v7.0-108-g4db6757 Python-3.9.15 torch-1.13.1+cu117 CPU\n"
     ]
    },
    {
     "name": "stdout",
     "output_type": "stream",
     "text": [
      "Setup complete ✅ (24 CPUs, 187.6 GB RAM, 9.7/116.8 GB disk)\n"
     ]
    }
   ],
   "source": [
    "!git clone https://github.com/ultralytics/yolov5  # clone\n",
    "%cd yolov5\n",
    "%pip install -qr requirements.txt  # install\n",
    "\n",
    "import torch\n",
    "import utils\n",
    "display = utils.notebook_init()  # checks"
   ]
  },
  {
   "cell_type": "code",
   "execution_count": 2,
   "id": "0104ffeb-b9a2-48ea-a652-fe39c270b590",
   "metadata": {},
   "outputs": [
    {
     "name": "stdout",
     "output_type": "stream",
     "text": [
      "Traceback (most recent call last):\n",
      "  File \"/home/u185800/yolov5/train.py\", line 43, in <module>\n",
      "    import val as validate  # for end-of-epoch mAP\n",
      "  File \"/home/u185800/yolov5/val.py\", line 39, in <module>\n",
      "    from models.common import DetectMultiBackend\n",
      "  File \"/home/u185800/yolov5/models/common.py\", line 20, in <module>\n",
      "    import pandas as pd\n",
      "  File \"/glob/development-tools/versions/oneapi/2023.0.1/oneapi/intelpython/latest/lib/python3.9/site-packages/pandas/__init__.py\", line 48, in <module>\n",
      "    from pandas.core.api import (\n",
      "  File \"/glob/development-tools/versions/oneapi/2023.0.1/oneapi/intelpython/latest/lib/python3.9/site-packages/pandas/core/api.py\", line 47, in <module>\n",
      "    from pandas.core.groupby import (\n",
      "  File \"/glob/development-tools/versions/oneapi/2023.0.1/oneapi/intelpython/latest/lib/python3.9/site-packages/pandas/core/groupby/__init__.py\", line 1, in <module>\n",
      "    from pandas.core.groupby.generic import (\n",
      "  File \"/glob/development-tools/versions/oneapi/2023.0.1/oneapi/intelpython/latest/lib/python3.9/site-packages/pandas/core/groupby/generic.py\", line 76, in <module>\n",
      "    from pandas.core.frame import DataFrame\n",
      "  File \"/glob/development-tools/versions/oneapi/2023.0.1/oneapi/intelpython/latest/lib/python3.9/site-packages/pandas/core/frame.py\", line 170, in <module>\n",
      "    from pandas.core.generic import NDFrame\n",
      "  File \"/glob/development-tools/versions/oneapi/2023.0.1/oneapi/intelpython/latest/lib/python3.9/site-packages/pandas/core/generic.py\", line 169, in <module>\n",
      "    from pandas.core.window import (\n",
      "  File \"/glob/development-tools/versions/oneapi/2023.0.1/oneapi/intelpython/latest/lib/python3.9/site-packages/pandas/core/window/__init__.py\", line 1, in <module>\n",
      "    from pandas.core.window.ewm import (\n",
      "  File \"/glob/development-tools/versions/oneapi/2023.0.1/oneapi/intelpython/latest/lib/python3.9/site-packages/pandas/core/window/ewm.py\", line 15, in <module>\n",
      "    import pandas._libs.window.aggregations as window_aggregations\n",
      "ImportError: /lib/x86_64-linux-gnu/libstdc++.so.6: version `GLIBCXX_3.4.29' not found (required by /glob/development-tools/versions/oneapi/2023.0.1/oneapi/intelpython/latest/lib/python3.9/site-packages/pandas/_libs/window/aggregations.cpython-39-x86_64-linux-gnu.so)\n"
     ]
    }
   ],
   "source": [
    "!python train.py --img 550 --batch 16 --epochs 3 --data coco128.yaml --weights yolov5s.pt --cache"
   ]
  },
  {
   "cell_type": "code",
   "execution_count": 1,
   "id": "7dc90270-4878-4376-b2ea-50017b1dc95d",
   "metadata": {},
   "outputs": [
    {
     "name": "stdout",
     "output_type": "stream",
     "text": [
      "python: can't open file '/home/u185800/classify/train.py': [Errno 2] No such file or directory\n"
     ]
    }
   ],
   "source": [
    "# Train YOLOv5s Classification on Imagenette160 for 3 epochs\n",
    "!python classify/train.py --model yolov5s-cls.pt --data dataDiff.yaml --epochs 3 --img 500 --cache"
   ]
  },
  {
   "cell_type": "code",
   "execution_count": 3,
   "id": "3b892286-27c1-4de8-9af8-122efa541eb1",
   "metadata": {},
   "outputs": [
    {
     "name": "stdout",
     "output_type": "stream",
     "text": [
      "/bin/bash: yolo: command not found\n"
     ]
    }
   ],
   "source": [
    "# Train YOLOv8n on COCO128 for 3 epochs\n",
    "!yolo train model=yolov5n.pt data=coco128.yaml epochs=3 imgsz=640"
   ]
  },
  {
   "cell_type": "code",
   "execution_count": null,
   "id": "6ba75d07-41af-463f-830a-a5f26473d9bd",
   "metadata": {},
   "outputs": [],
   "source": []
  }
 ],
 "metadata": {
  "kernelspec": {
   "display_name": "Python 3 (Intel® oneAPI 2023.0)",
   "language": "python",
   "name": "c009-intel_distribution_of_python_3_oneapi-beta05-python"
  },
  "language_info": {
   "codemirror_mode": {
    "name": "ipython",
    "version": 3
   },
   "file_extension": ".py",
   "mimetype": "text/x-python",
   "name": "python",
   "nbconvert_exporter": "python",
   "pygments_lexer": "ipython3",
   "version": "3.9.15"
  }
 },
 "nbformat": 4,
 "nbformat_minor": 5
}
