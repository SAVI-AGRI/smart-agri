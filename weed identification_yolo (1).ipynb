{
 "cells": [
  {
   "cell_type": "code",
   "execution_count": null,
   "id": "2a171813-d94f-445a-ab85-8d53506200cc",
   "metadata": {},
   "outputs": [],
   "source": [
    "import os\n",
    "from sklearn.model_selection import train_test_split\n",
    "import shutil\n",
    "\n",
    "# get all the images and annotation files in two lists\n",
    "images=[]\n",
    "annotations=[]\n",
    "for i in os.listdir(\"Weed_Detection5a431d7/data/\"):\n",
    "    if \".txt\" in i:\n",
    "        annotations.append(os.path.join(\"Weed_Detection5a431d7/data/\",i))\n",
    "    elif \".DS_Store\" in i:\n",
    "        pass\n",
    "    else:\n",
    "        images.append(os.path.join(\"Weed_Detection5a431d7/data/\",i))\n",
    "        \n",
    "# sort the files so that the order of images and annotations are same        \n",
    "images.sort()\n",
    "annotations.sort()\n",
    "\n",
    "print(\"Number of images\",len(images),\"\\nNumber of annotation files\",len(annotations))\n",
    "\n",
    "\n",
    "\n",
    "# Split the dataset into train-valid-test splits \n",
    "train_images, val_images, train_annotations, val_annotations = train_test_split(images, annotations, \n",
    "                                                                                test_size = 0.2, random_state = 1)\n",
    "val_images, test_images, val_annotations, test_annotations = train_test_split(val_images, val_annotations, \n",
    "                                                                              test_size = 0.5, random_state = 1)\n",
    "\n",
    "print(\"Training:\",len(train_images),\";Validation: \",len(val_images),\";Test:\",len(test_images))\n",
    "\n",
    "# create additional folders\n",
    "\n",
    "\n",
    "if not os.path.isdir(\"Weed_Detection5a431d7/assorted_data\"):\n",
    "    os.mkdir(\"Weed_Detection5a431d7/assorted_data\")\n",
    "    \n",
    "if not os.path.isdir(\"Weed_Detection5a431d7/assorted_data/images\"):\n",
    "    os.mkdir(\"Weed_Detection5a431d7/assorted_data/images\")\n",
    "\n",
    "    \n",
    "if not os.path.isdir(\"Weed_Detection5a431d7/assorted_data/labels\"):\n",
    "    os.mkdir(\"Weed_Detection5a431d7/assorted_data/labels\")\n",
    "\n",
    "if not os.path.isdir(\"Weed_Detection5a431d7/assorted_data/images/train\"):\n",
    "    os.mkdir(\"Weed_Detection5a431d7/assorted_data/images/train\")\n",
    "\n",
    "if not os.path.isdir(\"Weed_Detection5a431d7/assorted_data/images/val\"):\n",
    "    os.mkdir(\"Weed_Detection5a431d7/assorted_data/images/val\")\n",
    "\n",
    "if not os.path.isdir(\"Weed_Detection5a431d7/assorted_data/images/test\"):\n",
    "    os.mkdir(\"Weed_Detection5a431d7/assorted_data/images/test\")\n",
    "    \n",
    "    \n",
    "if not os.path.isdir(\"Weed_Detection5a431d7/assorted_data/labels/train\"):\n",
    "    os.mkdir(\"Weed_Detection5a431d7/assorted_data/labels/train\")\n",
    "\n",
    "if not os.path.isdir(\"Weed_Detection5a431d7/assorted_data/labels/val\"):\n",
    "    os.mkdir(\"Weed_Detection5a431d7/assorted_data/labels/val\")\n",
    "\n",
    "if not os.path.isdir(\"Weed_Detection5a431d7/assorted_data/labels/test\"):\n",
    "    os.mkdir(\"Weed_Detection5a431d7/assorted_data/labels/test\")        \n",
    "\n",
    "    \n",
    "#Utility function to move images \n",
    "def move_files_to_folder(list_of_files, destination_folder):\n",
    "    for f in list_of_files:\n",
    "#         print(f,destination_folder)\n",
    "        try:\n",
    "            shutil.copy(f, destination_folder)\n",
    "        except:\n",
    "            print('error')\n",
    "            pass\n",
    "            # print(f,\"Already there\")\n",
    "            # assert False\n",
    "\n",
    "# Move the splits into their folders\n",
    "move_files_to_folder(train_images, 'Weed_Detection5a431d7/assorted_data/images/train/')\n",
    "move_files_to_folder(val_images, 'Weed_Detection5a431d7/assorted_data/images/val/')\n",
    "move_files_to_folder(test_images, 'Weed_Detection5a431d7/assorted_data/images/test/')\n",
    "move_files_to_folder(train_annotations, 'Weed_Detection5a431d7/assorted_data/labels/train/')\n",
    "move_files_to_folder(val_annotations, 'Weed_Detection5a431d7/assorted_data/labels/val/')\n",
    "move_files_to_folder(test_annotations, 'Weed_Detection5a431d7/assorted_data/labels/test/')    "
   ]
  },
  {
   "cell_type": "code",
   "execution_count": null,
   "id": "4e5bb4b5-f61b-4d91-b071-f09a8d6415da",
   "metadata": {},
   "outputs": [],
   "source": [
    "import os\n",
    "\n",
    "print(\"Number of train images = \",len(os.listdir(\"Weed_Detection5a431d7/assorted_data/images/train/\")))\n",
    "print(\"Number of train annotations = \",len(os.listdir(\"Weed_Detection5a431d7/assorted_data/labels/train/\")))\n",
    "\n",
    "print(\"Number of val images = \",len(os.listdir(\"Weed_Detection5a431d7/assorted_data/images/val/\")))\n",
    "print(\"Number of val annotations = \",len(os.listdir(\"Weed_Detection5a431d7/assorted_data/labels/val/\")))\n",
    "\n",
    "print(\"Number of test images = \",len(os.listdir(\"Weed_Detection5a431d7/assorted_data/images/test/\")))\n",
    "print(\"Number of test annotations = \",len(os.listdir(\"Weed_Detection5a431d7/assorted_data/labels/test/\")))"
   ]
  },
  {
   "cell_type": "code",
   "execution_count": 3,
   "id": "ed91a2b7-1ca2-407b-9046-8aab7c37f6f4",
   "metadata": {},
   "outputs": [
    {
     "name": "stdout",
     "output_type": "stream",
     "text": [
      "/home/u188276/Weed_Detection5a431d7/assorted_data\n",
      "train: /home/u188276/Weed_Detection5a431d7/assorted_data/images/train\n",
      "val: /home/u188276/Weed_Detection5a431d7/assorted_data/images/val\n",
      "test: /home/u188276/Weed_Detection5a431d7/assorted_data/images/test\n",
      "nc: 2\n",
      "names: ['crop',\n",
      "        'weed',       \n",
      "]\n"
     ]
    }
   ],
   "source": [
    "import os\n",
    "from pathlib import Path\n",
    "path = Path(os.getcwd())\n",
    "final_data_path=os.path.join(path,\"Weed_Detection5a431d7\",\"assorted_data\")\n",
    "print(final_data_path)\n",
    "\n",
    "yaml_data=\"train: \"+final_data_path+\"/images/train\\n\"\n",
    "yaml_data+=\"val: \"+final_data_path+\"/images/val\\n\"\n",
    "yaml_data+=\"test: \"+final_data_path+\"/images/test\\n\"\n",
    "\n",
    "rest_of_yaml_data='''nc: 2\n",
    "names: ['crop',\n",
    "        'weed',       \n",
    "]'''\n",
    "\n",
    "yaml_data=yaml_data+rest_of_yaml_data\n",
    "print(yaml_data)\n",
    "\n",
    "yaml_file = open(\"dataDiff.yaml\", \"w\")\n",
    "n = yaml_file.write(yaml_data)\n",
    "yaml_file.close()"
   ]
  },
  {
   "cell_type": "code",
   "execution_count": 1,
   "id": "a835b58f-619e-42ff-8ffc-fb3b84d5c828",
   "metadata": {},
   "outputs": [
    {
     "name": "stderr",
     "output_type": "stream",
     "text": [
      "YOLOv5 🚀 v7.0-129-gb54fd0a Python-3.9.15 torch-2.0.0+cu117 CPU\n"
     ]
    },
    {
     "name": "stdout",
     "output_type": "stream",
     "text": [
      "Setup complete ✅ (24 CPUs, 188.6 GB RAM, 9.8/116.8 GB disk)\n"
     ]
    }
   ],
   "source": [
    "!git clone https://github.com/ultralytics/yolov5  # clone\n",
    "%cd yolov5\n",
    "%pip install -qr requirements.txt  # install\n",
    "\n",
    "import torch\n",
    "import utils\n",
    "display = utils.notebook_init()  # checks"
   ]
  },
  {
   "cell_type": "code",
   "execution_count": null,
   "id": "6ba75d07-41af-463f-830a-a5f26473d9bd",
   "metadata": {},
   "outputs": [],
   "source": []
  }
 ],
 "metadata": {
  "kernelspec": {
   "display_name": "oneAPI2022.3.1",
   "language": "python",
   "name": "2022.3.1"
  },
  "language_info": {
   "codemirror_mode": {
    "name": "ipython",
    "version": 3
   },
   "file_extension": ".py",
   "mimetype": "text/x-python",
   "name": "python",
   "nbconvert_exporter": "python",
   "pygments_lexer": "ipython3",
   "version": "3.9.15"
  }
 },
 "nbformat": 4,
 "nbformat_minor": 5
}
