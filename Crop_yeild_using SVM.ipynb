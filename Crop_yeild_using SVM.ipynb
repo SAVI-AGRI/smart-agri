{
 "cells": [
  {
   "cell_type": "code",
   "execution_count": 9,
   "id": "90969d5a-e6e5-4f22-b065-e003704dbdd1",
   "metadata": {},
   "outputs": [],
   "source": [
    "from timeit import default_timer as timer\n",
    "from sklearn import metrics\n",
    "from sklearn.model_selection import train_test_split\n",
    "import warnings\n",
    "from IPython.display import HTML\n",
    "warnings.filterwarnings('ignore')\n",
    "import time"
   ]
  },
  {
   "cell_type": "code",
   "execution_count": 2,
   "id": "19982d93-905e-40cb-b4d4-7db3d7abbcdc",
   "metadata": {},
   "outputs": [],
   "source": [
    "import pandas as pd\n",
    "df = pd.read_csv(\"dataset.csv\")"
   ]
  },
  {
   "cell_type": "code",
   "execution_count": 3,
   "id": "1d8a7347-5028-4b94-b38d-47c4b4ddcf1c",
   "metadata": {},
   "outputs": [],
   "source": [
    "x = df.drop(['State'],axis=1)\n",
    "y = df['State']"
   ]
  },
  {
   "cell_type": "code",
   "execution_count": 4,
   "id": "6862aaea-a6d0-4085-9e94-38875cef5067",
   "metadata": {},
   "outputs": [
    {
     "data": {
      "text/plain": [
       "((672, 10), (75, 10), (672,))"
      ]
     },
     "execution_count": 4,
     "metadata": {},
     "output_type": "execute_result"
    }
   ],
   "source": [
    "x_train, x_test, y_train, y_test = train_test_split(x, y, test_size=0.1, random_state=43)\n",
    "x_train.shape, x_test.shape, y_train.shape"
   ]
  },
  {
   "cell_type": "code",
   "execution_count": 5,
   "id": "f4c9037a-b350-4993-a9e1-2b2324677e1c",
   "metadata": {},
   "outputs": [
    {
     "name": "stderr",
     "output_type": "stream",
     "text": [
      "Intel(R) Extension for Scikit-learn* enabled (https://github.com/intel/scikit-learn-intelex)\n"
     ]
    }
   ],
   "source": [
    "from sklearnex import patch_sklearn\n",
    "patch_sklearn()"
   ]
  },
  {
   "cell_type": "code",
   "execution_count": 6,
   "id": "e6feabbe-6df6-4681-ab6b-63f7bd73d55b",
   "metadata": {},
   "outputs": [
    {
     "data": {
      "text/html": [
       "<div>\n",
       "<style scoped>\n",
       "    .dataframe tbody tr th:only-of-type {\n",
       "        vertical-align: middle;\n",
       "    }\n",
       "\n",
       "    .dataframe tbody tr th {\n",
       "        vertical-align: top;\n",
       "    }\n",
       "\n",
       "    .dataframe thead th {\n",
       "        text-align: right;\n",
       "    }\n",
       "</style>\n",
       "<table border=\"1\" class=\"dataframe\">\n",
       "  <thead>\n",
       "    <tr style=\"text-align: right;\">\n",
       "      <th></th>\n",
       "      <th>State</th>\n",
       "      <th>Year</th>\n",
       "      <th>Nitrogen (%)</th>\n",
       "      <th>Nitrogen (Pounds/Acre)</th>\n",
       "      <th>Phosphorous (%)</th>\n",
       "      <th>Phosphorous (Pounds/Acre)</th>\n",
       "      <th>Potash (%)</th>\n",
       "      <th>Potash (Pounds/Acre)</th>\n",
       "      <th>Area Planted (acres)</th>\n",
       "      <th>Harvested Area (acres)</th>\n",
       "      <th>Lint Yield (Pounds/Harvested Acre)</th>\n",
       "    </tr>\n",
       "  </thead>\n",
       "  <tbody>\n",
       "    <tr>\n",
       "      <th>0</th>\n",
       "      <td>Alabama</td>\n",
       "      <td>1973</td>\n",
       "      <td>99</td>\n",
       "      <td>82</td>\n",
       "      <td>95</td>\n",
       "      <td>77</td>\n",
       "      <td>97</td>\n",
       "      <td>83</td>\n",
       "      <td>385</td>\n",
       "      <td>370</td>\n",
       "      <td>405</td>\n",
       "    </tr>\n",
       "    <tr>\n",
       "      <th>1</th>\n",
       "      <td>Alabama</td>\n",
       "      <td>1974</td>\n",
       "      <td>100</td>\n",
       "      <td>100</td>\n",
       "      <td>99</td>\n",
       "      <td>76</td>\n",
       "      <td>99</td>\n",
       "      <td>75</td>\n",
       "      <td>440</td>\n",
       "      <td>420</td>\n",
       "      <td>399</td>\n",
       "    </tr>\n",
       "    <tr>\n",
       "      <th>2</th>\n",
       "      <td>Alabama</td>\n",
       "      <td>1975</td>\n",
       "      <td>100</td>\n",
       "      <td>74</td>\n",
       "      <td>92</td>\n",
       "      <td>57</td>\n",
       "      <td>98</td>\n",
       "      <td>66</td>\n",
       "      <td>405</td>\n",
       "      <td>395</td>\n",
       "      <td>337</td>\n",
       "    </tr>\n",
       "    <tr>\n",
       "      <th>3</th>\n",
       "      <td>Alabama</td>\n",
       "      <td>1976</td>\n",
       "      <td>98</td>\n",
       "      <td>72</td>\n",
       "      <td>93</td>\n",
       "      <td>71</td>\n",
       "      <td>98</td>\n",
       "      <td>80</td>\n",
       "      <td>325</td>\n",
       "      <td>315</td>\n",
       "      <td>443</td>\n",
       "    </tr>\n",
       "    <tr>\n",
       "      <th>4</th>\n",
       "      <td>Alabama</td>\n",
       "      <td>1977</td>\n",
       "      <td>99</td>\n",
       "      <td>74</td>\n",
       "      <td>91</td>\n",
       "      <td>72</td>\n",
       "      <td>97</td>\n",
       "      <td>85</td>\n",
       "      <td>310</td>\n",
       "      <td>305</td>\n",
       "      <td>510</td>\n",
       "    </tr>\n",
       "  </tbody>\n",
       "</table>\n",
       "</div>"
      ],
      "text/plain": [
       "     State  Year  Nitrogen (%)  Nitrogen (Pounds/Acre)  Phosphorous (%)  \\\n",
       "0  Alabama  1973            99                      82               95   \n",
       "1  Alabama  1974           100                     100               99   \n",
       "2  Alabama  1975           100                      74               92   \n",
       "3  Alabama  1976            98                      72               93   \n",
       "4  Alabama  1977            99                      74               91   \n",
       "\n",
       "   Phosphorous (Pounds/Acre)  Potash (%)  Potash (Pounds/Acre)  \\\n",
       "0                         77          97                    83   \n",
       "1                         76          99                    75   \n",
       "2                         57          98                    66   \n",
       "3                         71          98                    80   \n",
       "4                         72          97                    85   \n",
       "\n",
       "   Area Planted (acres)  Harvested Area (acres)  \\\n",
       "0                   385                     370   \n",
       "1                   440                     420   \n",
       "2                   405                     395   \n",
       "3                   325                     315   \n",
       "4                   310                     305   \n",
       "\n",
       "   Lint Yield (Pounds/Harvested Acre)  \n",
       "0                                 405  \n",
       "1                                 399  \n",
       "2                                 337  \n",
       "3                                 443  \n",
       "4                                 510  "
      ]
     },
     "execution_count": 6,
     "metadata": {},
     "output_type": "execute_result"
    }
   ],
   "source": [
    "df.head()"
   ]
  },
  {
   "cell_type": "code",
   "execution_count": 10,
   "id": "58dfea6a-939c-4fad-8625-09f840d74f67",
   "metadata": {},
   "outputs": [
    {
     "name": "stderr",
     "output_type": "stream",
     "text": [
      "Intel(R) Extension for Scikit-learn* enabled (https://github.com/intel/scikit-learn-intelex)\n"
     ]
    },
    {
     "name": "stdout",
     "output_type": "stream",
     "text": [
      "SVM's Accuracy is:  0.04\n",
      "               precision    recall  f1-score   support\n",
      "\n",
      "      Alabama       0.00      0.00      0.00         3\n",
      "       Arizo0       0.00      0.00      0.00         4\n",
      "     Arkansas       0.00      0.00      0.00         6\n",
      "   California       0.00      0.00      0.00         3\n",
      "      Georgia       0.00      0.00      0.00         8\n",
      "     Louisia0       0.00      0.00      0.00         6\n",
      "  Mississippi       0.00      0.00      0.00         4\n",
      "     Missouri       0.03      1.00      0.05         2\n",
      "   New Mexico       1.00      0.11      0.20         9\n",
      "North Caroli0       0.00      0.00      0.00        11\n",
      "     Oklahoma       0.00      0.00      0.00         5\n",
      "South Caroli0       0.00      0.00      0.00         5\n",
      "    Tennessee       0.00      0.00      0.00         7\n",
      "        Texas       0.00      0.00      0.00         2\n",
      "\n",
      "     accuracy                           0.04        75\n",
      "    macro avg       0.07      0.08      0.02        75\n",
      " weighted avg       0.12      0.04      0.03        75\n",
      "\n",
      "Total runtime of the program is 1.0404374599456787\n"
     ]
    }
   ],
   "source": [
    "from sklearnex.svm import SVC\n",
    "from sklearnex import patch_sklearn\n",
    "from sklearn.metrics import classification_report\n",
    "patch_sklearn()\n",
    "begin = time.time()\n",
    "\n",
    "SVM = SVC(gamma='auto')\n",
    "\n",
    "SVM.fit(x_train,y_train)\n",
    "# Pull out SVM! \n",
    "\n",
    "predicted_values = SVM.predict(x_test)\n",
    "\n",
    "x = metrics.accuracy_score(y_test, predicted_values)\n",
    "print(\"SVM's Accuracy is: \", x)\n",
    "print(classification_report(y_test,predicted_values))\n",
    "time.sleep(1)\n",
    "# store end time\n",
    "end = time.time()\n",
    " \n",
    "# total time taken\n",
    "print(f\"Total runtime of the program is {end - begin}\")"
   ]
  },
  {
   "cell_type": "code",
   "execution_count": null,
   "id": "976a5c70-edc7-4e06-934f-ea7cc7ef3122",
   "metadata": {},
   "outputs": [],
   "source": []
  }
 ],
 "metadata": {
  "kernelspec": {
   "display_name": "Python 3 (Intel® oneAPI 2023.0)",
   "language": "python",
   "name": "c009-intel_distribution_of_python_3_oneapi-beta05-python"
  },
  "language_info": {
   "codemirror_mode": {
    "name": "ipython",
    "version": 3
   },
   "file_extension": ".py",
   "mimetype": "text/x-python",
   "name": "python",
   "nbconvert_exporter": "python",
   "pygments_lexer": "ipython3",
   "version": "3.9.15"
  }
 },
 "nbformat": 4,
 "nbformat_minor": 5
}
